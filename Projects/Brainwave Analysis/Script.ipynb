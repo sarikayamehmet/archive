{
 "cells": [
  {
   "cell_type": "code",
   "execution_count": null,
   "metadata": {
    "collapsed": false
   },
   "outputs": [],
   "source": [
    "# Import necessary libraries\n",
    "import numpy as np\n",
    "import pandas as pd\n",
    "import custom_fn as cf\n",
    "import sklearn.svm\n",
    "import matplotlib.pyplot as plt\n",
    "#import sklearn.lda # Poor Performance\n",
    "#import sklearn.decomposition #For PCA. Poor Performance"
   ]
  },
  {
   "cell_type": "code",
   "execution_count": null,
   "metadata": {
    "collapsed": false
   },
   "outputs": [],
   "source": [
    "# Load Data\n",
    "X_add, y_add = cf.loadData_and_addFeatures()"
   ]
  },
  {
   "cell_type": "code",
   "execution_count": null,
   "metadata": {
    "collapsed": false
   },
   "outputs": [],
   "source": [
    "# Visualize Data\n",
    "#cf.saveAllPlots(X_add, y_add) #Save all plots\n",
    "print(X_add.columns)\n",
    "#cf.plotFeature(X_add, y_add,'LWR(blinkStrength)')"
   ]
  },
  {
   "cell_type": "code",
   "execution_count": null,
   "metadata": {
    "collapsed": false
   },
   "outputs": [],
   "source": [
    "#Select Features to Run\n",
    "features=[]\n",
    "features.append('N(blinks)_1m')\n",
    "features.append('N(50<blinkStrength)_1m')\n",
    "features.append('N(eeg<-500)_1m')\n",
    "features.append('N(alphaLow>1.677e+007)_1m')\n",
    "features.append('N(betaLow>1.674e+007)_1m')\n",
    "features.append('N(1e+005<theta<5e+005)_1m')\n",
    "features.append('blinkStrength') #For deep sleep detection\n",
    "features.append('N(1e+005<alphaHigh<2e+005)_1m')\n",
    "\n",
    "X_select = X_add[features].values\n",
    "print(X_select.shape)"
   ]
  },
  {
   "cell_type": "code",
   "execution_count": null,
   "metadata": {
    "collapsed": false
   },
   "outputs": [],
   "source": [
    "# Shuffle Data\n",
    "X_shuffled, y_shuffled = cf.shuffleData(X_select, y_add)\n",
    "print(X_shuffled.shape, y_shuffled.shape)"
   ]
  },
  {
   "cell_type": "code",
   "execution_count": null,
   "metadata": {
    "collapsed": false
   },
   "outputs": [],
   "source": [
    "#Divide Examples\n",
    "idx_train = int(X_shuffled.shape[0] * 0.7)\n",
    "idx_val = int(X_shuffled.shape[0] * 0.9)\n",
    "print(idx_train, idx_val - idx_train, X_shuffled.shape[0] - idx_val)"
   ]
  },
  {
   "cell_type": "code",
   "execution_count": null,
   "metadata": {
    "collapsed": true
   },
   "outputs": [],
   "source": [
    "# Divide examples using Mini-batch\n",
    "X_train = X_shuffled[0:idx_train]\n",
    "y_train = y_shuffled[0:idx_train]\n",
    "X_val = X_shuffled[idx_train + 1:idx_val]\n",
    "y_val = y_shuffled[idx_train + 1:idx_val]\n",
    "X_test = X_shuffled[idx_val + 1:]\n",
    "y_test = y_shuffled[idx_val + 1:]"
   ]
  },
  {
   "cell_type": "code",
   "execution_count": null,
   "metadata": {
    "collapsed": false
   },
   "outputs": [],
   "source": [
    "# Test with default options\n",
    "svc = sklearn.svm.SVC(kernel='rbf', C=8, gamma=0.1).fit(X_train, y_train)\n",
    "print(svc)"
   ]
  },
  {
   "cell_type": "code",
   "execution_count": null,
   "metadata": {
    "collapsed": false
   },
   "outputs": [],
   "source": [
    "# Construct Accuracy metrics\n",
    "# Simple Accuracy\n",
    "pred_pos = svc.predict(X_val)\n",
    "simple_accuracy = np.mean(pred_pos == y_val)\n",
    "# F1 score\n",
    "Scores_sleepy = cf.F1_score(pred_pos, y_val, class_idx=1)\n",
    "Scores_deep = cf.F1_score(pred_pos, y_val, class_idx=2)\n",
    "# Print Accuracy metrics\n",
    "print(simple_accuracy)\n",
    "print(Scores_sleepy)\n",
    "print(Scores_deep)\n",
    "print(svc.n_support_)"
   ]
  },
  {
   "cell_type": "code",
   "execution_count": null,
   "metadata": {
    "collapsed": false
   },
   "outputs": [],
   "source": [
    "# Parameter tuning\n",
    "C_values = [2 ** (x) for x in range(-11, 4)]\n",
    "gamma_values = [10 ** x for x in range(-3, 2)]\n",
    "best_svc = svc;\n",
    "best_scores = [accuracy, F1, P, R]\n",
    "for c in C_values:\n",
    "    for g in gamma_values:\n",
    "        svc_dummy = sklearn.svm.SVC(kernel='rbf', C=c, gamma=g).fit(X_train, y_train)\n",
    "        dummy_pred_pos = svc_dummy.predict(X_val)\n",
    "        dummy_simple_accuracy = np.mean(pred_pos == y_val)\n",
    "        dummy_Scores = F1_score(dummy_pred_pos, y_val)\n",
    "        if dummy_F1 > F1:\n",
    "            best_svc = svc_dummy\n",
    "            best_scores = (dummy_simple_accuracy, dummy_Scores)\n",
    "print(best_svc)\n",
    "print(best_scores)\n",
    "print(best_svc.n_support_)"
   ]
  },
  {
   "cell_type": "code",
   "execution_count": null,
   "metadata": {
    "collapsed": false
   },
   "outputs": [],
   "source": [
    "# Classify the test set\n",
    "test_pred_pos = svc.predict(X_test)\n",
    "test_simple_accuracy = np.mean(test_pred_pos == y_test)\n",
    "test_F1_sleepy = cf.F1_score(test_pred_pos, y_test, class_idx=1)\n",
    "test_F1_deep = cf.F1_score(test_pred_pos, y_test, class_idx=2)\n",
    "print(test_simple_accuracy)\n",
    "print(test_F1_sleepy)\n",
    "print(test_F1_deep)"
   ]
  },
  {
   "cell_type": "code",
   "execution_count": null,
   "metadata": {
    "collapsed": false
   },
   "outputs": [],
   "source": [
    "# Code for transmitting test results over the network\n",
    "#import serial as s\n",
    "#ser=s.Serial('COM7',9600)\n",
    "# Loop\n",
    "\n",
    "import time, threading\n",
    "def repeated_cycle():\n",
    "    # Input raw csv files\n",
    "    filename = 'DATA(150827).csv'\n",
    "    # Add new features\n",
    "    X_new_add = cf.loadNewData_and_addFeatures(filename)\n",
    "    if X_new_add.iloc[0].values[0]!='Invalid values':\n",
    "        X_this = X_new_add[features].values\n",
    "        # Classify\n",
    "        state = svc.predict(X_this[-1])\n",
    "        print(int(state[0]))\n",
    "        # Output classification results\n",
    "        #ser.write(int(state[0])\n",
    "\n",
    "            # Code for time adjustment\n",
    "        threading.Timer(1,repeated_cycle).start()\n",
    "repeated_cycle()"
   ]
  },
  {
   "cell_type": "code",
   "execution_count": null,
   "metadata": {
    "collapsed": true
   },
   "outputs": [],
   "source": []
  }
 ],
 "metadata": {
  "kernelspec": {
   "display_name": "Python 3",
   "language": "python",
   "name": "python3"
  },
  "language_info": {
   "codemirror_mode": {
    "name": "ipython",
    "version": 3
   },
   "file_extension": ".py",
   "mimetype": "text/x-python",
   "name": "python",
   "nbconvert_exporter": "python",
   "pygments_lexer": "ipython3",
   "version": "3.4.3"
  }
 },
 "nbformat": 4,
 "nbformat_minor": 0
}

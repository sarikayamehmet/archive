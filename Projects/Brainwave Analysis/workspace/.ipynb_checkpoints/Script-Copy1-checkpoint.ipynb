{
 "cells": [
  {
   "cell_type": "code",
   "execution_count": 1,
   "metadata": {
    "collapsed": true
   },
   "outputs": [],
   "source": [
    "#Import necessary libraries\n",
    "import numpy as np\n",
    "from sklearn import svm"
   ]
  },
  {
   "cell_type": "code",
   "execution_count": 139,
   "metadata": {
    "collapsed": false
   },
   "outputs": [
    {
     "name": "stdout",
     "output_type": "stream",
     "text": [
      "['eegRawValue' 'attention' 'meditation' 'blinkStrength' 'delta' 'theta'\n",
      " 'alphaLow' 'alphaHigh' 'betaLow' 'betaHigh' 'gammaLow' 'gammaMid'\n",
      " 'N(blinks),60sec' 'N(50<blinkStr<70),60sec' 'N(eeg<-500),60sec'\n",
      " 'N(1.677e+007<alphaLow),60sec' 'N(1.674e+007<betaLow),60sec'\n",
      " 'N(1e+005<theta<5e+005),60sec']\n"
     ]
    }
   ],
   "source": [
    "#Load Data\n",
    "X_raw=np.genfromtxt('X.txt',delimiter=' ',dtype='float32')\n",
    "y_raw=np.genfromtxt('y.txt',delimiter=' ')\n",
    "label=np.genfromtxt('label.txt',delimiter=' ',dtype='S')\n",
    "print label"
   ]
  },
  {
   "cell_type": "code",
   "execution_count": 140,
   "metadata": {
    "collapsed": false,
    "scrolled": true
   },
   "outputs": [
    {
     "name": "stdout",
     "output_type": "stream",
     "text": [
      "((34015L, 18L), (34015L,))\n"
     ]
    }
   ],
   "source": [
    "#Shuffle Data\n",
    "idx=np.arange((X_raw.shape)[0])\n",
    "np.random.shuffle(idx)\n",
    "X_shuffled=X_raw[idx]\n",
    "y_shuffled=y_raw[idx]\n",
    "print(X_shuffled.shape,y_shuffled.shape)"
   ]
  },
  {
   "cell_type": "code",
   "execution_count": 142,
   "metadata": {
    "collapsed": false
   },
   "outputs": [
    {
     "name": "stdout",
     "output_type": "stream",
     "text": [
      "(23810, 6803, 3402L)\n"
     ]
    }
   ],
   "source": [
    "#Select Features to run\n",
    "features=[12,13,14,15,16,17]\n",
    "X_final=X_shuffled[:,features]\n",
    "idx_train=int(X_final.shape[0]*0.7)\n",
    "idx_val=int(X_final.shape[0]*0.9)\n",
    "print(idx_train,idx_val-idx_train,X_final.shape[0]-idx_val)"
   ]
  },
  {
   "cell_type": "code",
   "execution_count": 143,
   "metadata": {
    "collapsed": false
   },
   "outputs": [],
   "source": [
    "#Divide examples using Mini-batch\n",
    "X_train=X_final[0:idx_train]\n",
    "y_train=y_shuffled[0:idx_train]\n",
    "X_val=X_final[idx_train+1:idx_val]\n",
    "y_val=y_shuffled[idx_train+1:idx_val]\n",
    "X_test=X_final[idx_val+1:]\n",
    "y_test=y_shuffled[idx_val+1:]"
   ]
  },
  {
   "cell_type": "code",
   "execution_count": 144,
   "metadata": {
    "collapsed": false
   },
   "outputs": [
    {
     "name": "stdout",
     "output_type": "stream",
     "text": [
      "SVC(C=8, cache_size=200, class_weight=None, coef0=0.0, degree=3, gamma=0.1,\n",
      "  kernel='rbf', max_iter=-1, probability=False, random_state=None,\n",
      "  shrinking=True, tol=0.001, verbose=False)\n"
     ]
    }
   ],
   "source": [
    "#Test with default options\n",
    "svc=svm.SVC(kernel='rbf',C=8,gamma=0.1)\n",
    "svc.fit(X_train,y_train)\n",
    "print svc"
   ]
  },
  {
   "cell_type": "code",
   "execution_count": 145,
   "metadata": {
    "collapsed": false
   },
   "outputs": [
    {
     "name": "stdout",
     "output_type": "stream",
     "text": [
      "0.967068509262\n",
      "(0.910828025477707, 0.9248181083265966, 0.8972549019607843)\n",
      "[1687 1459]\n"
     ]
    }
   ],
   "source": [
    "#Construct Accuracy metrics\n",
    "#Simple Accuracy\n",
    "pred_pos=svc.predict(X_val)\n",
    "accuracy=np.mean(pred_pos==y_val)\n",
    "#F1 score\n",
    "def F1_score(pred_pos,y):\n",
    "    n_pred_pos=float(sum(pred_pos==1))\n",
    "    n_True_pos=float(sum(np.all([pred_pos==1,y==1],axis=0)==True))\n",
    "    n_actual_pos=float(sum(y==1))\n",
    "    Precision=0\n",
    "    Recall=0\n",
    "    F1=0\n",
    "    if n_pred_pos!=0:\n",
    "        Precision=n_True_pos/n_pred_pos\n",
    "    if n_actual_pos!=0:\n",
    "        Recall=n_True_pos/n_actual_pos\n",
    "    if Precision+Recall!=0:\n",
    "        F1=2*Precision*Recall/(Precision+Recall)\n",
    "    return F1,Precision,Recall\n",
    "F1,P,R=F1_score(pred_pos,y_val)\n",
    "#Print Accuracy metrics\n",
    "print accuracy\n",
    "print (F1,P,R)\n",
    "print svc.n_support_"
   ]
  },
  {
   "cell_type": "code",
   "execution_count": 146,
   "metadata": {
    "collapsed": false
   },
   "outputs": [
    {
     "name": "stdout",
     "output_type": "stream",
     "text": [
      "SVC(C=8, cache_size=200, class_weight=None, coef0=0.0, degree=3, gamma=0.1,\n",
      "  kernel='rbf', max_iter=-1, probability=False, random_state=None,\n",
      "  shrinking=True, tol=0.001, verbose=False)\n",
      "[0.910828025477707, 0.9248181083265966, 0.8972549019607843] 0.967068509262\n",
      "[1687 1459]\n"
     ]
    }
   ],
   "source": [
    "#Parameter tuning\n",
    "C_values=[2**(x) for x in range(-11,4)]\n",
    "gamma_values=[10**x for x in range(-3,2)]\n",
    "best_svc=svc;\n",
    "best_accuracy=accuracy;\n",
    "best_F1=[F1,P,R]\n",
    "for c in C_values:\n",
    "    for g in gamma_values:\n",
    "        svc_dummy=svm.SVC(kernel='rbf',C=c,gamma=g)\n",
    "        svc_dummy.fit(X_train,y_train)\n",
    "        dummy_pred_pos=svc_dummy.predict(X_val)\n",
    "        dummy_accuracy=np.mean(pred_pos==y_val)\n",
    "        dummy_F1,dummy_P,dummy_R=F1_score(dummy_pred_pos,y_val)\n",
    "        if dummy_F1>F1:\n",
    "            best_svc=svc_dummy\n",
    "            best_accuracy=dummy_accuracy\n",
    "            best_F1=[dummy_F1,dummy_P,dummy_R]\n",
    "print best_svc\n",
    "print best_F1,best_accuracy\n",
    "print best_svc.n_support_"
   ]
  },
  {
   "cell_type": "code",
   "execution_count": 147,
   "metadata": {
    "collapsed": false
   },
   "outputs": [
    {
     "name": "stdout",
     "output_type": "stream",
     "text": [
      "(0.9031746031746032, 0.9074960127591707, 0.8988941548183255) 0.964128197589\n"
     ]
    }
   ],
   "source": [
    "#Classify the test set\n",
    "test_pred_pos=best_svc.predict(X_test)\n",
    "test_accuracy=np.mean(test_pred_pos==y_test)\n",
    "test_F1=F1_score(test_pred_pos,y_test)\n",
    "print test_F1,test_accuracy"
   ]
  },
  {
   "cell_type": "code",
   "execution_count": 153,
   "metadata": {
    "collapsed": false
   },
   "outputs": [
    {
     "name": "stdout",
     "output_type": "stream",
     "text": [
      "[    7    27    35 ..., 23788 23800 23806]\n",
      "[ 14.   8.   0.   0.   0.   1.]\n",
      "[ 23.   9.   0.   0.   1.   2.]\n"
     ]
    }
   ],
   "source": [
    "print best_svc.support_\n",
    "print best_svc.support_vectors_[0]\n",
    "print best_svc.support_vectors_[1]"
   ]
  },
  {
   "cell_type": "code",
   "execution_count": 154,
   "metadata": {
    "collapsed": false
   },
   "outputs": [
    {
     "data": {
      "text/plain": [
       "(3146L,)"
      ]
     },
     "execution_count": 154,
     "metadata": {},
     "output_type": "execute_result"
    }
   ],
   "source": [
    "best_svc.support_.shape"
   ]
  },
  {
   "cell_type": "code",
   "execution_count": null,
   "metadata": {
    "collapsed": true
   },
   "outputs": [],
   "source": []
  }
 ],
 "metadata": {
  "kernelspec": {
   "display_name": "Python 2",
   "language": "python",
   "name": "python2"
  },
  "language_info": {
   "codemirror_mode": {
    "name": "ipython",
    "version": 2
   },
   "file_extension": ".py",
   "mimetype": "text/x-python",
   "name": "python",
   "nbconvert_exporter": "python",
   "pygments_lexer": "ipython2",
   "version": "2.7.9"
  }
 },
 "nbformat": 4,
 "nbformat_minor": 0
}

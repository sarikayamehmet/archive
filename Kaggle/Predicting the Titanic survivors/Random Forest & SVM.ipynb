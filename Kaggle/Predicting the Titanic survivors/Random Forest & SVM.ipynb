{
 "cells": [
  {
   "cell_type": "code",
   "execution_count": 1,
   "metadata": {
    "collapsed": false
   },
   "outputs": [],
   "source": [
    "import numpy as np\n",
    "import pandas as pd\n",
    "from titanic_data_cleanup import cleanup\n",
    "from sklearn.linear_model import LogisticRegression as LR\n",
    "from sklearn.ensemble import RandomForestClassifier as RF\n",
    "from sklearn.linear_model import SGDClassifier as SGD\n",
    "from sklearn import cross_validation\n",
    "from sklearn.svm import SVC"
   ]
  },
  {
   "cell_type": "markdown",
   "metadata": {},
   "source": [
    "## Data cleanup"
   ]
  },
  {
   "cell_type": "code",
   "execution_count": 2,
   "metadata": {
    "collapsed": false
   },
   "outputs": [
    {
     "data": {
      "text/html": [
       "<div>\n",
       "<table border=\"1\" class=\"dataframe\">\n",
       "  <thead>\n",
       "    <tr style=\"text-align: right;\">\n",
       "      <th></th>\n",
       "      <th>Survived</th>\n",
       "      <th>Pclass</th>\n",
       "      <th>SibSp</th>\n",
       "      <th>Parch</th>\n",
       "      <th>Fare</th>\n",
       "      <th>Gender</th>\n",
       "      <th>AgeFill</th>\n",
       "      <th>AgeIsNull</th>\n",
       "    </tr>\n",
       "  </thead>\n",
       "  <tbody>\n",
       "    <tr>\n",
       "      <th>0</th>\n",
       "      <td>0</td>\n",
       "      <td>3</td>\n",
       "      <td>1</td>\n",
       "      <td>0</td>\n",
       "      <td>7.2500</td>\n",
       "      <td>1</td>\n",
       "      <td>22.0</td>\n",
       "      <td>0</td>\n",
       "    </tr>\n",
       "    <tr>\n",
       "      <th>1</th>\n",
       "      <td>1</td>\n",
       "      <td>1</td>\n",
       "      <td>1</td>\n",
       "      <td>0</td>\n",
       "      <td>71.2833</td>\n",
       "      <td>0</td>\n",
       "      <td>38.0</td>\n",
       "      <td>0</td>\n",
       "    </tr>\n",
       "    <tr>\n",
       "      <th>2</th>\n",
       "      <td>1</td>\n",
       "      <td>3</td>\n",
       "      <td>0</td>\n",
       "      <td>0</td>\n",
       "      <td>7.9250</td>\n",
       "      <td>0</td>\n",
       "      <td>26.0</td>\n",
       "      <td>0</td>\n",
       "    </tr>\n",
       "  </tbody>\n",
       "</table>\n",
       "</div>"
      ],
      "text/plain": [
       "   Survived  Pclass  SibSp  Parch     Fare  Gender  AgeFill  AgeIsNull\n",
       "0         0       3      1      0   7.2500       1     22.0          0\n",
       "1         1       1      1      0  71.2833       0     38.0          0\n",
       "2         1       3      0      0   7.9250       0     26.0          0"
      ]
     },
     "execution_count": 2,
     "metadata": {},
     "output_type": "execute_result"
    }
   ],
   "source": [
    "#Load Data\n",
    "df=pd.read_csv('train_data_cleaned.csv')\n",
    "df_test=cleanup('test.csv')\n",
    "df.pop('Unnamed: 0')\n",
    "df.pop('PassengerId')\n",
    "df.head(3)"
   ]
  },
  {
   "cell_type": "code",
   "execution_count": 3,
   "metadata": {
    "collapsed": false
   },
   "outputs": [
    {
     "data": {
      "text/html": [
       "<div>\n",
       "<table border=\"1\" class=\"dataframe\">\n",
       "  <thead>\n",
       "    <tr style=\"text-align: right;\">\n",
       "      <th></th>\n",
       "      <th>PassengerId</th>\n",
       "      <th>Pclass</th>\n",
       "      <th>SibSp</th>\n",
       "      <th>Parch</th>\n",
       "      <th>Fare</th>\n",
       "      <th>Gender</th>\n",
       "      <th>AgeFill</th>\n",
       "      <th>AgeIsNull</th>\n",
       "    </tr>\n",
       "  </thead>\n",
       "  <tbody>\n",
       "    <tr>\n",
       "      <th>0</th>\n",
       "      <td>892</td>\n",
       "      <td>3</td>\n",
       "      <td>0</td>\n",
       "      <td>0</td>\n",
       "      <td>7.8292</td>\n",
       "      <td>1</td>\n",
       "      <td>34.5</td>\n",
       "      <td>0</td>\n",
       "    </tr>\n",
       "    <tr>\n",
       "      <th>1</th>\n",
       "      <td>893</td>\n",
       "      <td>3</td>\n",
       "      <td>1</td>\n",
       "      <td>0</td>\n",
       "      <td>7.0000</td>\n",
       "      <td>0</td>\n",
       "      <td>47.0</td>\n",
       "      <td>0</td>\n",
       "    </tr>\n",
       "    <tr>\n",
       "      <th>2</th>\n",
       "      <td>894</td>\n",
       "      <td>2</td>\n",
       "      <td>0</td>\n",
       "      <td>0</td>\n",
       "      <td>9.6875</td>\n",
       "      <td>1</td>\n",
       "      <td>62.0</td>\n",
       "      <td>0</td>\n",
       "    </tr>\n",
       "  </tbody>\n",
       "</table>\n",
       "</div>"
      ],
      "text/plain": [
       "   PassengerId  Pclass  SibSp  Parch    Fare  Gender  AgeFill  AgeIsNull\n",
       "0          892       3      0      0  7.8292       1     34.5          0\n",
       "1          893       3      1      0  7.0000       0     47.0          0\n",
       "2          894       2      0      0  9.6875       1     62.0          0"
      ]
     },
     "execution_count": 3,
     "metadata": {},
     "output_type": "execute_result"
    }
   ],
   "source": [
    "df_test.head(3)"
   ]
  },
  {
   "cell_type": "code",
   "execution_count": 4,
   "metadata": {
    "collapsed": false
   },
   "outputs": [
    {
     "name": "stdout",
     "output_type": "stream",
     "text": [
      "[[  3.       1.       0.       7.25     1.      22.       0.    ]\n",
      " [  1.       1.       0.      71.2833   0.      38.       0.    ]\n",
      " [  3.       0.       0.       7.925    0.      26.       0.    ]\n",
      " [  1.       1.       0.      53.1      0.      35.       0.    ]\n",
      " [  3.       0.       0.       8.05     1.      35.       0.    ]]\n",
      "[0 1 1 1 0]\n",
      "[[  3.       0.       0.       7.8292   1.      34.5      0.    ]\n",
      " [  3.       1.       0.       7.       0.      47.       0.    ]\n",
      " [  2.       0.       0.       9.6875   1.      62.       0.    ]\n",
      " [  3.       0.       0.       8.6625   1.      27.       0.    ]\n",
      " [  3.       1.       1.      12.2875   0.      22.       0.    ]]\n",
      "[0 0 0 0 0]\n"
     ]
    }
   ],
   "source": [
    "# Convert data into a usable form\n",
    "train_X=df.values[:,1:]\n",
    "train_y=df['Survived'].values\n",
    "test_X=df_test.values[:,1:]\n",
    "test_y=np.zeros(len(test_X),dtype=int)\n",
    "print(train_X[:5])\n",
    "print(train_y[:5])\n",
    "print(test_X[:5])\n",
    "print(test_y[:5])"
   ]
  },
  {
   "cell_type": "code",
   "execution_count": 5,
   "metadata": {
    "collapsed": false
   },
   "outputs": [
    {
     "name": "stdout",
     "output_type": "stream",
     "text": [
      "(891, 7)\n"
     ]
    }
   ],
   "source": [
    "print(train_X.shape) # relatively small dataset -> batch training"
   ]
  },
  {
   "cell_type": "markdown",
   "metadata": {},
   "source": [
    "## Run Logistic Regression"
   ]
  },
  {
   "cell_type": "code",
   "execution_count": 6,
   "metadata": {
    "collapsed": false
   },
   "outputs": [
    {
     "name": "stdout",
     "output_type": "stream",
     "text": [
      "('training set accuracy:', 0.80022446689113358)\n",
      "test set accuracy:0.623501199041\n"
     ]
    }
   ],
   "source": [
    "# logistic regression with l2(ridge) regularization\n",
    "clf_LR = LR(C=1.0).fit(train_X,train_y)\n",
    "\n",
    "#Parameter tuning via grid search\n",
    "best_score = clf_LR.score(train_X,train_y)\n",
    "best_C = 1\n",
    "C_values = [2**i for i in range(-20,20)]\n",
    "for current_C in C_values:\n",
    "    clf_LR = LR(C=current_C).fit(train_X,train_y)\n",
    "    # new score\n",
    "    current_score =\\\n",
    "    cross_validation.cross_val_score(clf_LR,train_X,train_y,cv=5).mean()\n",
    "    if best_score <= current_score: # if improved, proceed\n",
    "        best_C = current_C\n",
    "        best_score = current_score\n",
    "\n",
    "\n",
    "# Final training set accuracy\n",
    "print('training set accuracy:',best_score)\n",
    "\n",
    "#Test set accuracy\n",
    "pred_test = clf_LR.predict(test_X)\n",
    "print('test set accuracy:'+str(np.mean(pred_test==test_y)))"
   ]
  },
  {
   "cell_type": "markdown",
   "metadata": {},
   "source": [
    "## Run Random Forest"
   ]
  },
  {
   "cell_type": "code",
   "execution_count": 7,
   "metadata": {
    "collapsed": false
   },
   "outputs": [
    {
     "name": "stdout",
     "output_type": "stream",
     "text": [
      "training set accuracy:0.813744726109\n",
      "test set accuracy:0.645083932854\n"
     ]
    }
   ],
   "source": [
    "# Fit the model with default option\n",
    "clf_RF = RF(n_estimators=100)\n",
    "clf_RF = clf_RF.fit(train_X, train_y)\n",
    "\n",
    "#Training set accuracy\n",
    "score_train = cross_validation.cross_val_score(clf_RF,train_X,train_y,cv=5).mean()\n",
    "print('training set accuracy:'+str(score_train))\n",
    "\n",
    "#Test set accuracy\n",
    "pred_test = clf_RF.predict(test_X)\n",
    "print('test set accuracy:'+str(np.mean(pred_test==test_y)))"
   ]
  },
  {
   "cell_type": "markdown",
   "metadata": {},
   "source": [
    "## Run SVM"
   ]
  },
  {
   "cell_type": "markdown",
   "metadata": {},
   "source": [
    "### 1. Linear SVM"
   ]
  },
  {
   "cell_type": "code",
   "execution_count": 8,
   "metadata": {
    "collapsed": false
   },
   "outputs": [
    {
     "name": "stdout",
     "output_type": "stream",
     "text": [
      "training set accuracy:0.707070707071\n",
      "test set accuracy:0.8896882494\n"
     ]
    }
   ],
   "source": [
    "clf_SVM_linear = SGD(loss='hinge').fit(train_X,train_y)\n",
    "\n",
    "#Parameter tuning via grid search\n",
    "best_score = clf_SVM_linear.score(train_X,train_y)\n",
    "best_C = 1\n",
    "C_values = [2**i for i in range(-8,8)]\n",
    "for current_C in C_values:\n",
    "    clf_SVM_linear = SGD(alpha=current_C,loss='hinge').fit(train_X,train_y)\n",
    "    # new score\n",
    "    current_score =\\\n",
    "    cross_validation.cross_val_score(clf_SVM_linear,train_X,train_y,cv=5).mean()\n",
    "    if best_score <= current_score: # if improved, proceed\n",
    "        best_C = current_C\n",
    "        best_score = current_score\n",
    "\n",
    "print('training set accuracy:'+str(best_score))\n",
    "\n",
    "#Test set prediction\n",
    "pred_test = clf_SVM_linear.predict(test_X)\n",
    "print('test set accuracy:'+str(np.mean(pred_test==test_y)))"
   ]
  },
  {
   "cell_type": "markdown",
   "metadata": {},
   "source": [
    "### 2. Kernel SVM"
   ]
  },
  {
   "cell_type": "code",
   "execution_count": 9,
   "metadata": {
    "collapsed": false
   },
   "outputs": [
    {
     "name": "stdout",
     "output_type": "stream",
     "text": [
      "training set accuracy:0.895622895623\n",
      "training set accuracy:0.673860911271\n"
     ]
    }
   ],
   "source": [
    "clf_SVM_RBF = SVC(kernel='rbf').fit(train_X, train_y)\n",
    "\n",
    "#Parameter tuning via grid search\n",
    "best_score = clf_SVM_RBF.score(train_X,train_y)\n",
    "best_C = 1\n",
    "C_values = [2**i for i in range(-8,8)]\n",
    "for current_C in C_values:\n",
    "    clf_SVM_RBF = SVC(C=current_C,kernel='rbf').fit(train_X,train_y)\n",
    "    # new score\n",
    "    current_score =\\\n",
    "    cross_validation.cross_val_score(clf_SVM_RBF,train_X,train_y,cv=5).mean()\n",
    "    if best_score <= current_score: # if improved, proceed\n",
    "        best_C = current_C\n",
    "        best_score = current_score\n",
    "\n",
    "print('training set accuracy:'+str(best_score))\n",
    "\n",
    "#Test set prediction\n",
    "pred_test = clf_SVM_RBF.predict(test_X)\n",
    "print('training set accuracy:'+str(np.mean(pred_test==test_y)))"
   ]
  }
 ],
 "metadata": {
  "kernelspec": {
   "display_name": "Python 2",
   "language": "python",
   "name": "python2"
  },
  "language_info": {
   "codemirror_mode": {
    "name": "ipython",
    "version": 2
   },
   "file_extension": ".py",
   "mimetype": "text/x-python",
   "name": "python",
   "nbconvert_exporter": "python",
   "pygments_lexer": "ipython2",
   "version": "2.7.11"
  }
 },
 "nbformat": 4,
 "nbformat_minor": 0
}

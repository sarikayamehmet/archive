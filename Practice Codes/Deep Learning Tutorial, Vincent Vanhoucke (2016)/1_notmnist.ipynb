{
 "cells": [
  {
   "cell_type": "markdown",
   "metadata": {},
   "source": [
    "Deep Learning\n",
    "=============\n",
    "\n",
    "Assignment 1\n",
    "------------\n",
    "\n",
    "The objective of this assignment is to learn about simple data curation practices, and familiarize you with some of the data we'll be reusing later.\n",
    "\n",
    "This notebook uses the [notMNIST](http://yaroslavvb.blogspot.com/2011/09/notmnist-dataset.html) dataset to be used with python experiments. This dataset is designed to look like the classic [MNIST](http://yann.lecun.com/exdb/mnist/) dataset, while looking a little more like real data: it's a harder task, and the data is a lot less 'clean' than MNIST."
   ]
  },
  {
   "cell_type": "code",
   "execution_count": 1,
   "metadata": {
    "collapsed": true
   },
   "outputs": [],
   "source": [
    "# These are all the modules we'll be using later. Make sure you can import them\n",
    "# before proceeding further.\n",
    "import matplotlib.pyplot as plt\n",
    "import numpy as np\n",
    "import os\n",
    "import tarfile\n",
    "import urllib\n",
    "from IPython.display import display, Image\n",
    "from scipy import ndimage\n",
    "from sklearn.linear_model import LogisticRegression as LR\n",
    "from sklearn.linear_model import SGDClassifier as SGD\n",
    "import cPickle as pickle"
   ]
  },
  {
   "cell_type": "markdown",
   "metadata": {},
   "source": [
    "### Downloading and Loading Data(skip this)"
   ]
  },
  {
   "cell_type": "markdown",
   "metadata": {},
   "source": [
    "First, we'll download the dataset to our local machine. The data consists of characters rendered in a variety of fonts on a 28x28 image. The labels are limited to 'A' through 'J' (10 classes). The training set has about 500k and the testset 19000 labelled examples. Given these sizes, it should be possible to train models quickly on any machine."
   ]
  },
  {
   "cell_type": "code",
   "execution_count": 3,
   "metadata": {
    "collapsed": false
   },
   "outputs": [
    {
     "name": "stdout",
     "output_type": "stream",
     "text": [
      "Found and verified notMNIST_large.tar.gz\n",
      "Found and verified notMNIST_small.tar.gz\n"
     ]
    }
   ],
   "source": [
    "# Don't do this if all files are already in the directory\n",
    "url = 'http://yaroslavvb.com/upload/notMNIST/'\n",
    "\n",
    "def maybe_download(filename, expected_bytes):\n",
    "  \"\"\"Download a file if not present, and make sure it's the right size.\"\"\"\n",
    "  if not os.path.exists(filename):\n",
    "    filename, _ = urllib.urlretrieve(url + filename, filename)\n",
    "  statinfo = os.stat(filename)\n",
    "  if statinfo.st_size == expected_bytes:\n",
    "    print 'Found and verified', filename\n",
    "  else:\n",
    "    raise Exception(\n",
    "      'Failed to verify' + filename + '. Can you get to it with a browser?')\n",
    "  return filename\n",
    "\n",
    "train_filename = maybe_download('notMNIST_large.tar.gz', 247336696)\n",
    "test_filename = maybe_download('notMNIST_small.tar.gz', 8458043)"
   ]
  },
  {
   "cell_type": "markdown",
   "metadata": {},
   "source": [
    "Extract the dataset from the compressed .tar.gz file.\n",
    "This should give you a set of directories, labelled A through J."
   ]
  },
  {
   "cell_type": "code",
   "execution_count": 4,
   "metadata": {
    "collapsed": false
   },
   "outputs": [
    {
     "name": "stdout",
     "output_type": "stream",
     "text": [
      "['notMNIST_large/A', 'notMNIST_large/B', 'notMNIST_large/C', 'notMNIST_large/D', 'notMNIST_large/E', 'notMNIST_large/F', 'notMNIST_large/G', 'notMNIST_large/H', 'notMNIST_large/I', 'notMNIST_large/J']\n",
      "['notMNIST_small/A', 'notMNIST_small/B', 'notMNIST_small/C', 'notMNIST_small/D', 'notMNIST_small/E', 'notMNIST_small/F', 'notMNIST_small/G', 'notMNIST_small/H', 'notMNIST_small/I', 'notMNIST_small/J']\n"
     ]
    }
   ],
   "source": [
    "# Don't do this, if all files are already in the directory\n",
    "num_classes = 10\n",
    "\n",
    "def extract(filename):\n",
    "  tar = tarfile.open(filename)\n",
    "  tar.extractall()\n",
    "  tar.close()\n",
    "  root = os.path.splitext(os.path.splitext(filename)[0])[0]  # remove .tar.gz\n",
    "  data_folders = [os.path.join(root, d) for d in sorted(os.listdir(root))]\n",
    "  if len(data_folders) != num_classes:\n",
    "    raise Exception(\n",
    "      'Expected %d folders, one per class. Found %d instead.' % (\n",
    "        num_classes, len(data_folders)))\n",
    "  print data_folders\n",
    "  return data_folders\n",
    "  \n",
    "train_folders = extract(train_filename)\n",
    "test_folders = extract(test_filename)"
   ]
  },
  {
   "cell_type": "code",
   "execution_count": 2,
   "metadata": {
    "collapsed": true
   },
   "outputs": [],
   "source": [
    "# Do this instead\n",
    "train_folders = ['notMNIST_large/A', 'notMNIST_large/B', 'notMNIST_large/C',\\\n",
    "                 'notMNIST_large/D', 'notMNIST_large/E', 'notMNIST_large/F',\\\n",
    "                 'notMNIST_large/G', 'notMNIST_large/H', 'notMNIST_large/I', 'notMNIST_large/J']\n",
    "test_folders = ['notMNIST_small/A', 'notMNIST_small/B', 'notMNIST_small/C',\\\n",
    "                'notMNIST_small/D', 'notMNIST_small/E', 'notMNIST_small/F',\\\n",
    "                'notMNIST_small/G', 'notMNIST_small/H', 'notMNIST_small/I', 'notMNIST_small/J']"
   ]
  },
  {
   "cell_type": "markdown",
   "metadata": {},
   "source": [
    "---\n",
    "Problem 1\n",
    "---------\n",
    "\n",
    "Let's take a peek at some of the data to make sure it looks sensible. Each exemplar should be an image of a character A through J rendered in a different font. Display a sample of the images that we just downloaded. Hint: you can use the package IPython.display.\n",
    "\n",
    "---"
   ]
  },
  {
   "cell_type": "code",
   "execution_count": 3,
   "metadata": {
    "collapsed": false
   },
   "outputs": [
    {
     "data": {
      "image/png": "[encoded data removed]",
      "text/plain": [
       "<IPython.core.display.Image object>"
      ]
     },
     "metadata": {},
     "output_type": "display_data"
    },
    {
     "data": {
      "image/png": "[encoded data removed]",
      "text/plain": [
       "<IPython.core.display.Image object>"
      ]
     },
     "metadata": {},
     "output_type": "display_data"
    },
    {
     "data": {
      "image/png": "[encoded data removed]",
      "text/plain": [
       "<IPython.core.display.Image object>"
      ]
     },
     "metadata": {},
     "output_type": "display_data"
    },
    {
     "data": {
      "image/png": "[encoded data removed]",
      "text/plain": [
       "<IPython.core.display.Image object>"
      ]
     },
     "metadata": {},
     "output_type": "display_data"
    },
    {
     "data": {
      "image/png": "[encoded data removed]",
      "text/plain": [
       "<IPython.core.display.Image object>"
      ]
     },
     "metadata": {},
     "output_type": "display_data"
    },
    {
     "data": {
      "image/png": "[encoded data removed]",
      "text/plain": [
       "<IPython.core.display.Image object>"
      ]
     },
     "metadata": {},
     "output_type": "display_data"
    },
    {
     "data": {
      "image/png": "[encoded data removed]",
      "text/plain": [
       "<IPython.core.display.Image object>"
      ]
     },
     "metadata": {},
     "output_type": "display_data"
    },
    {
     "data": {
      "image/png": "[encoded data removed]",
      "text/plain": [
       "<IPython.core.display.Image object>"
      ]
     },
     "metadata": {},
     "output_type": "display_data"
    },
    {
     "data": {
      "image/png": "[encoded data removed]",
      "text/plain": [
       "<IPython.core.display.Image object>"
      ]
     },
     "metadata": {},
     "output_type": "display_data"
    },
    {
     "data": {
      "image/png": "[encoded data removed]",
      "text/plain": [
       "<IPython.core.display.Image object>"
      ]
     },
     "metadata": {},
     "output_type": "display_data"
    },
    {
     "data": {
      "text/plain": [
       "[None, None, None, None, None, None, None, None, None, None]"
      ]
     },
     "execution_count": 3,
     "metadata": {},
     "output_type": "execute_result"
    }
   ],
   "source": [
    "# Get a random image from <directory> and display it\n",
    "def sampleImage(directoryName):\n",
    "    randomFile = np.random.choice(os.listdir(directoryName))\n",
    "    return Image(filename=os.path.join(directoryName,randomFile))\n",
    "\n",
    "# Sample a letter from each directory in the test_folders\n",
    "[display(sampleImage(f)) for f in test_folders]"
   ]
  },
  {
   "cell_type": "markdown",
   "metadata": {},
   "source": [
    "Note that the images above are grayscale"
   ]
  },
  {
   "cell_type": "markdown",
   "metadata": {},
   "source": [
    "Now let's load the data in a more manageable format.\n",
    "\n",
    "We'll convert the entire dataset into a 3D array (image index, x, y) of floating point values, normalized to have approximately zero mean and standard deviation ~0.5 to make training easier down the road. The labels will be stored into a separate array of integers 0 through 9.\n",
    "\n",
    "A few images might not be readable, we'll just skip them."
   ]
  },
  {
   "cell_type": "code",
   "execution_count": 4,
   "metadata": {
    "collapsed": false
   },
   "outputs": [
    {
     "name": "stdout",
     "output_type": "stream",
     "text": [
      "notMNIST_large/A\n",
      "Could not read: notMNIST_large/A/SG90IE11c3RhcmQgQlROIFBvc3Rlci50dGY=.png : cannot identify image file 'notMNIST_large/A/SG90IE11c3RhcmQgQlROIFBvc3Rlci50dGY=.png' - it's ok, skipping.\n",
      "Could not read: notMNIST_large/A/Um9tYW5hIEJvbGQucGZi.png : cannot identify image file 'notMNIST_large/A/Um9tYW5hIEJvbGQucGZi.png' - it's ok, skipping.\n",
      "Could not read: notMNIST_large/A/RnJlaWdodERpc3BCb29rSXRhbGljLnR0Zg==.png : cannot identify image file 'notMNIST_large/A/RnJlaWdodERpc3BCb29rSXRhbGljLnR0Zg==.png' - it's ok, skipping.\n",
      "notMNIST_large/B\n",
      "Could not read: notMNIST_large/B/TmlraXNFRi1TZW1pQm9sZEl0YWxpYy5vdGY=.png : cannot identify image file 'notMNIST_large/B/TmlraXNFRi1TZW1pQm9sZEl0YWxpYy5vdGY=.png' - it's ok, skipping.\n",
      "notMNIST_large/C\n",
      "notMNIST_large/D\n",
      "Could not read: notMNIST_large/D/VHJhbnNpdCBCb2xkLnR0Zg==.png : cannot identify image file 'notMNIST_large/D/VHJhbnNpdCBCb2xkLnR0Zg==.png' - it's ok, skipping.\n",
      "notMNIST_large/E\n",
      "notMNIST_large/F\n",
      "notMNIST_large/G\n",
      "notMNIST_large/H\n",
      "notMNIST_large/I\n",
      "notMNIST_large/J\n",
      "Full dataset tensor: (529114, 28, 28)\n",
      "Mean: -0.0816599\n",
      "Standard deviation: 0.454232\n",
      "Labels: (529114,)\n",
      "notMNIST_small/A\n",
      "Could not read: notMNIST_small/A/RGVtb2NyYXRpY2FCb2xkT2xkc3R5bGUgQm9sZC50dGY=.png : cannot identify image file 'notMNIST_small/A/RGVtb2NyYXRpY2FCb2xkT2xkc3R5bGUgQm9sZC50dGY=.png' - it's ok, skipping.\n",
      "notMNIST_small/B\n",
      "notMNIST_small/C\n",
      "notMNIST_small/D\n",
      "notMNIST_small/E\n",
      "notMNIST_small/F\n",
      "Could not read: notMNIST_small/F/Q3Jvc3NvdmVyIEJvbGRPYmxpcXVlLnR0Zg==.png : cannot identify image file 'notMNIST_small/F/Q3Jvc3NvdmVyIEJvbGRPYmxpcXVlLnR0Zg==.png' - it's ok, skipping.\n",
      "notMNIST_small/G\n",
      "notMNIST_small/H\n",
      "notMNIST_small/I\n",
      "notMNIST_small/J\n",
      "Full dataset tensor: (18724, 28, 28)\n",
      "Mean: -0.0746363\n",
      "Standard deviation: 0.458622\n",
      "Labels: (18724,)\n"
     ]
    }
   ],
   "source": [
    "# Modifiy the dataset size if you want to quickly run it in the laptop\n",
    "image_size = 28  # Pixel width and height.\n",
    "pixel_depth = 255.0  # Number of levels per pixel.\n",
    "\n",
    "def load(data_folders, min_num_images, max_num_images):\n",
    "    # ndarray to hold values, w/ upper bounds on size\n",
    "  dataset = np.ndarray(shape=(max_num_images, image_size, image_size), dtype=np.float32) \n",
    "    #ndarray to hold labels, w/ upper bounds on size\n",
    "  labels = np.ndarray(shape=(max_num_images), dtype=np.int32) \n",
    "  label_index = 0\n",
    "  image_index = 0 # index for loop\n",
    "#  max_num_images_per_class = max_num_images//10 # code to shrink the loop size\n",
    "  for folder in data_folders: # loop for each class\n",
    "    print folder # display the working class\n",
    "#    idx_in_this_class = 0; # code to shrink the loop size\n",
    "    for image in os.listdir(folder): # Loop for images in a single class\n",
    "      # if idx_in_this_class >= max_num_images_per_class:\n",
    "#        break;\n",
    "      if image_index >= max_num_images:\n",
    "        # break;\n",
    "        # original code(below):\n",
    "        raise Exception('More images than expected: %d >= %d' % (num_images, max_num_images))\n",
    "      image_file = os.path.join(folder, image) # full path of the image file we're working on\n",
    "      try:\n",
    "        image_data = (ndimage.imread(image_file).astype(float) - pixel_depth / 2) / pixel_depth\n",
    "        # normalize each pixels to have approximately zero mean and small variance(each sample has maximum std of 0.5)\n",
    "        # ndimage is a scipy package for multi-dimensional image processing\n",
    "        # ndimage.imread reads an image from a file as an ndarray, where the first argument is the filename or the file object.\n",
    "        if image_data.shape != (image_size, image_size):\n",
    "          raise Exception('Unexpected image shape: %s' % str(image_data.shape))\n",
    "        dataset[image_index, :, :] = image_data # save the image\n",
    "        labels[image_index] = label_index # save the class label(identical over the same folder)\n",
    "        image_index += 1 # increment the loop index\n",
    "#        idx_in_this_class += 1 # code to shrink the loop size\n",
    "      except IOError as e:\n",
    "        print 'Could not read:', image_file, ':', e, '- it\\'s ok, skipping.'\n",
    "    label_index += 1\n",
    "  num_images = image_index\n",
    "  dataset = dataset[0:num_images, :, :] # only use the existing images\n",
    "  labels = labels[0:num_images]  # only use the existing labels\n",
    "  if num_images < min_num_images:\n",
    "    raise Exception('Many fewer images than expected: %d < %d' % (num_images, min_num_images))\n",
    "# Statistics about the whole dataset\n",
    "  print 'Full dataset tensor:', dataset.shape\n",
    "  print 'Mean:', np.mean(dataset)\n",
    "  print 'Standard deviation:', np.std(dataset)\n",
    "  print 'Labels:', labels.shape\n",
    "  return dataset, labels\n",
    "train_dataset, train_labels = load(train_folders, 450000, 550000)\n",
    "test_dataset, test_labels = load(test_folders, 18000, 20000)\n",
    "# initially, (min_num_images, max_num_images) were\n",
    "# training set: (45*10^4, 55*10^4)\n",
    "# test set: (18*10^3, 20*10^3)"
   ]
  },
  {
   "cell_type": "markdown",
   "metadata": {},
   "source": [
    "---\n",
    "Problem 2\n",
    "---------\n",
    "\n",
    "Let's verify that the data still looks good. Displaying a sample of the labels and images from the ndarray. Hint: you can use matplotlib.pyplot.\n",
    "\n",
    "---"
   ]
  },
  {
   "cell_type": "markdown",
   "metadata": {},
   "source": [
    "#### Load data file in a pickle"
   ]
  },
  {
   "cell_type": "code",
   "execution_count": 2,
   "metadata": {
    "collapsed": false
   },
   "outputs": [
    {
     "name": "stdout",
     "output_type": "stream",
     "text": [
      "Training set (352743, 28, 28) (352743,)\n",
      "Validation set (176371, 28, 28) (176371,)\n",
      "Test set (18724, 28, 28) (18724,)\n"
     ]
    }
   ],
   "source": [
    "pickle_file = 'notMNIST.pickle'\n",
    "\n",
    "with open(pickle_file, 'rb') as f:\n",
    "  save = pickle.load(f)\n",
    "  train_dataset = save['train_dataset']\n",
    "  train_labels = save['train_labels']\n",
    "  valid_dataset = save['valid_dataset']\n",
    "  valid_labels = save['valid_labels']\n",
    "  test_dataset = save['test_dataset']\n",
    "  test_labels = save['test_labels']\n",
    "  del save  # hint to help gc free up memory\n",
    "  print 'Training set', train_dataset.shape, train_labels.shape\n",
    "  print 'Validation set', valid_dataset.shape, valid_labels.shape\n",
    "  print 'Test set', test_dataset.shape, test_labels.shape"
   ]
  },
  {
   "cell_type": "code",
   "execution_count": 3,
   "metadata": {
    "collapsed": false
   },
   "outputs": [
    {
     "name": "stdout",
     "output_type": "stream",
     "text": [
      "('class', 'A', 35171)\n",
      "('class', 'B', 35539)\n",
      "('class', 'C', 35181)\n",
      "('class', 'D', 35408)\n",
      "('class', 'E', 35189)\n",
      "('class', 'F', 35310)\n",
      "('class', 'G', 35141)\n",
      "('class', 'H', 35165)\n",
      "('class', 'I', 35325)\n",
      "('class', 'J', 35314)\n"
     ]
    },
    {
     "data": {
      "image/png": "[encoded data removed]",
      "text/plain": [
       "<matplotlib.figure.Figure at 0x7fe974fe2990>"
      ]
     },
     "metadata": {},
     "output_type": "display_data"
    }
   ],
   "source": [
    "%matplotlib inline\n",
    "# Get a random image\n",
    "random_image = train_dataset[np.random.randint(2000)]\n",
    "imgplot = plt.imshow(random_image)\n",
    "\n",
    "# plot\n",
    "#display how many classes are in the set\n",
    "for i in range(ord('A'),ord('J')+1):\n",
    "    print('class',chr(i),np.sum(train_labels==i-ord('A')))"
   ]
  },
  {
   "cell_type": "markdown",
   "metadata": {},
   "source": [
    "Next, we'll randomize the data. It's important to have the labels well shuffled for the training and test distributions to match."
   ]
  },
  {
   "cell_type": "code",
   "execution_count": 4,
   "metadata": {
    "collapsed": true
   },
   "outputs": [],
   "source": [
    "np.random.seed(133)\n",
    "def randomize(dataset, labels):\n",
    "  permutation = np.random.permutation(labels.shape[0])\n",
    "  shuffled_dataset = dataset[permutation,:,:]\n",
    "  shuffled_labels = labels[permutation]\n",
    "  return shuffled_dataset, shuffled_labels\n",
    "train_dataset, train_labels = randomize(train_dataset, train_labels)\n",
    "test_dataset, test_labels = randomize(test_dataset, test_labels)"
   ]
  },
  {
   "cell_type": "markdown",
   "metadata": {},
   "source": [
    "---\n",
    "Problem 3\n",
    "---------\n",
    "Convince yourself that the data is still good after shuffling!\n",
    "\n",
    "---"
   ]
  },
  {
   "cell_type": "code",
   "execution_count": 5,
   "metadata": {
    "collapsed": false
   },
   "outputs": [
    {
     "name": "stdout",
     "output_type": "stream",
     "text": [
      "('class', 'A', 1872)\n",
      "('class', 'B', 1873)\n",
      "('class', 'C', 1873)\n",
      "('class', 'D', 1873)\n",
      "('class', 'E', 1873)\n",
      "('class', 'F', 1872)\n",
      "('class', 'G', 1872)\n",
      "('class', 'H', 1872)\n",
      "('class', 'I', 1872)\n",
      "('class', 'J', 1872)\n"
     ]
    },
    {
     "data": {
      "image/png": "[encoded data removed]",
      "text/plain": [
       "<matplotlib.figure.Figure at 0x7fe974f3c850>"
      ]
     },
     "metadata": {},
     "output_type": "display_data"
    }
   ],
   "source": [
    "# Get a random image\n",
    "random_image = test_dataset[np.random.randint(2000)]\n",
    "imgplot = plt.imshow(random_image)\n",
    "\n",
    "# plot\n",
    "#display how many classes are in the set\n",
    "for i in range(ord('A'),ord('J')+1):\n",
    "    print('class',chr(i),np.sum(test_labels==i-ord('A')))"
   ]
  },
  {
   "cell_type": "markdown",
   "metadata": {},
   "source": [
    "---\n",
    "Problem 4\n",
    "---------\n",
    "Another check: we expect the data to be balanced across classes. Verify that.\n",
    "\n",
    "---\n",
    "\n",
    "### Skip this part, since we already saved the data in pickles, where the data is divided into Training/Validation/Test set"
   ]
  },
  {
   "cell_type": "markdown",
   "metadata": {},
   "source": [
    "Prune the training data as needed. Depending on your computer setup, you might not be able to fit it all in memory, and you can tune train_size as needed.\n",
    "\n",
    "Also create a validation dataset for hyperparameter tuning."
   ]
  },
  {
   "cell_type": "code",
   "execution_count": 8,
   "metadata": {
    "collapsed": false
   },
   "outputs": [
    {
     "name": "stdout",
     "output_type": "stream",
     "text": [
      "Training (352743, 28, 28) (352743,)\n",
      "Validation (176371, 28, 28) (176371,)\n"
     ]
    }
   ],
   "source": [
    "train_size = 529114-529114//3\n",
    "valid_size = 529114//3\n",
    "\n",
    "valid_dataset = train_dataset[:valid_size,:,:]\n",
    "valid_labels = train_labels[:valid_size]\n",
    "train_dataset = train_dataset[valid_size:valid_size+train_size,:,:]\n",
    "train_labels = train_labels[valid_size:valid_size+train_size]\n",
    "\n",
    "print 'Training', train_dataset.shape, train_labels.shape\n",
    "print 'Validation', valid_dataset.shape, valid_labels.shape"
   ]
  },
  {
   "cell_type": "markdown",
   "metadata": {},
   "source": [
    "Finally, let's save the data for later reuse:"
   ]
  },
  {
   "cell_type": "code",
   "execution_count": 11,
   "metadata": {
    "collapsed": true
   },
   "outputs": [],
   "source": [
    "pickle_file = 'notMNIST.pickle'\n",
    "\n",
    "try:\n",
    "  f = open(pickle_file, 'wb')\n",
    "  save = {\n",
    "    'train_dataset': train_dataset,\n",
    "    'train_labels': train_labels,\n",
    "    'valid_dataset': valid_dataset,\n",
    "    'valid_labels': valid_labels,\n",
    "    'test_dataset': test_dataset,\n",
    "    'test_labels': test_labels,\n",
    "    }\n",
    "  pickle.dump(save, f, pickle.HIGHEST_PROTOCOL)\n",
    "  f.close()\n",
    "except Exception as e:\n",
    "  print 'Unable to save data to', pickle_file, ':', e\n",
    "  raise"
   ]
  },
  {
   "cell_type": "code",
   "execution_count": 12,
   "metadata": {
    "collapsed": false
   },
   "outputs": [
    {
     "name": "stdout",
     "output_type": "stream",
     "text": [
      "Compressed pickle size: 1720211765\n"
     ]
    }
   ],
   "source": [
    "statinfo = os.stat(pickle_file)\n",
    "print 'Compressed pickle size:', statinfo.st_size"
   ]
  },
  {
   "cell_type": "markdown",
   "metadata": {},
   "source": [
    "---\n",
    "Problem 5\n",
    "---------\n",
    "\n",
    "By construction, this dataset might contain a lot of overlapping samples, including training data that's also contained in the validation and test set! Overlap between training and test can skew the results if you expect to use your model in an environment where there is never an overlap, but are actually ok if you expect to see training samples recur when you use it.\n",
    "Measure how much overlap there is between training, validation and test samples.\n",
    "Optional questions:\n",
    "- What about near duplicates between datasets? (images that are almost identical)\n",
    "- Create a sanitized validation and test set, and compare your accuracy on those in subsequent assignments.\n",
    "---"
   ]
  },
  {
   "cell_type": "code",
   "execution_count": null,
   "metadata": {
    "collapsed": true
   },
   "outputs": [],
   "source": [
    "# Don't do this, since it takes quite a long time\n",
    "duplicates = 0.0\n",
    "for image_test in test_dataset:\n",
    "    for image_val in valid_dataset:\n",
    "        for image_train in train_dataset:\n",
    "            # you may use np.array_equal for safety. (A==B).all() is prone to subtle errors but faster\n",
    "            eq1 = (image_test==image_train).all()\n",
    "            eq2 = (image_test==image_val).all()\n",
    "            eq3 = (image_train==image_val).all()\n",
    "            if eq1 or eq2 or eq3:\n",
    "                duplicates += 1\n",
    "print(duplicates/5500)"
   ]
  },
  {
   "cell_type": "markdown",
   "metadata": {},
   "source": [
    "---\n",
    "Problem 6\n",
    "---------\n",
    "\n",
    "Let's get an idea of what an off-the-shelf classifier can give you on this data. It's always good to check that there is something to learn, and that it's a problem that is not so trivial that a canned solution solves it.\n",
    "\n",
    "Train a simple model on this data using 50, 100, 1000 and 5000 training samples. Hint: you can use the LogisticRegression model from sklearn.linear_model.\n",
    "\n",
    "Optional question: train an off-the-shelf model on all the data!\n",
    "\n",
    "---"
   ]
  },
  {
   "cell_type": "code",
   "execution_count": 6,
   "metadata": {
    "collapsed": true
   },
   "outputs": [],
   "source": [
    "(n_train, width, height) = train_dataset.shape\n",
    "#n_valid = valid_dataset.shape[0]\n",
    "#n_test = test_dataset.shape[0]\n",
    "\n",
    "n_train = 7000\n",
    "#n_valid = 2000\n",
    "n_test = 2000\n",
    "X_train = np.reshape(train_dataset[:n_train],(n_train, width*height)) # reshape the array, with reading elements by rows.\n",
    "y_train = train_labels[:n_train]\n",
    "#X_valid = np.reshape(valid_dataset[:n_valid],(n_valid, width*height))\n",
    "#y_valid = valid_labels[:n_valid]\n",
    "X_test = np.reshape(test_dataset[:n_test],(n_test, width*height))\n",
    "y_test = test_labels[:n_test]"
   ]
  },
  {
   "cell_type": "code",
   "execution_count": 7,
   "metadata": {
    "collapsed": true
   },
   "outputs": [],
   "source": [
    "from sklearn import cross_validation ## prepare for the cross-validation"
   ]
  },
  {
   "cell_type": "code",
   "execution_count": 8,
   "metadata": {
    "collapsed": false
   },
   "outputs": [
    {
     "name": "stdout",
     "output_type": "stream",
     "text": [
      "('initial training accuracy: ', 0.78328482900700225)\n",
      "('initial test accuracy: ', 0.84150000000000003)\n"
     ]
    }
   ],
   "source": [
    "clf_LR = LR().fit(X_train,y_train) # fit the L2-regularized Logistic regression model\n",
    "# training set score with 5-fold cross-validation\n",
    "training_accuracy= \\\n",
    "cross_validation.cross_val_score(clf_LR,X_train,y_train,cv=5).mean()\n",
    "test_accuracy = clf_LR.score(X_test, y_test) # test set score\n",
    "print('initial training accuracy: ',training_accuracy)\n",
    "print('initial test accuracy: ',test_accuracy)"
   ]
  },
  {
   "cell_type": "code",
   "execution_count": 9,
   "metadata": {
    "collapsed": false
   },
   "outputs": [
    {
     "name": "stdout",
     "output_type": "stream",
     "text": [
      "0.775139556952\n",
      "0.8275\n",
      "('initial training accuracy: ', 0.77513955695178605)\n",
      "('initial test accuracy: ', 0.82750000000000001)\n"
     ]
    }
   ],
   "source": [
    "# fit the L2-regularized Logistic regression model w/ SGD(much faster)\n",
    "clf_SGD_LR = SGD(loss=\"log\").fit(X_train,y_train)\n",
    "training_accuracy = \\\n",
    "cross_validation.cross_val_score(clf_SGD_LR,X_train,y_train,cv=5).mean()\n",
    "test_accuracy = clf_SGD_LR.score(X_test, y_test) # test set score\n",
    "print(training_accuracy)\n",
    "print(test_accuracy)\n",
    "print('initial training accuracy: ',training_accuracy)\n",
    "print('initial test accuracy: ',test_accuracy)"
   ]
  },
  {
   "cell_type": "code",
   "execution_count": 11,
   "metadata": {
    "collapsed": false
   },
   "outputs": [
    {
     "name": "stdout",
     "output_type": "stream",
     "text": [
      "('alpha: ', 0.0001)\n",
      "('training accuracy a/f tuning: ', 0.82128571428571429)\n",
      "('test accuracy a/f tuning: ', 0.81999999999999995)\n"
     ]
    }
   ],
   "source": [
    "# Parameter tuning (using binary search)\n",
    "clf_SGD_LR_tuned = SGD(loss=\"log\").fit(X_train,y_train)\n",
    "best_score = clf_SGD_LR_tuned.score(X_train,y_train)\n",
    "best_alpha = 0.0001\n",
    "current_alpha = 0.0001/2\n",
    "count_stuck = 0\n",
    "pos_grad = False\n",
    "for i in range(10):\n",
    "    clf_SGD_LR_tuned = SGD(loss=\"log\",alpha=current_alpha).fit(X_train,y_train)\n",
    "    # new score\n",
    "    new_score =\\\n",
    "    cross_validation.cross_val_score(clf_SGD_LR_tuned,X_train,y_train,cv=5).mean()\n",
    "    if best_score <= new_score: # if improved, proceed\n",
    "        best_alpha = current_alpha\n",
    "        if pos_grad:\n",
    "            current_alpha = current_alpha * 2\n",
    "        else:\n",
    "            current_alpha = current_alpha / 2\n",
    "    else:\n",
    "        if pos_grad:\n",
    "            pos_grad = False\n",
    "            current_alpha = current_alpha / 2\n",
    "        else:\n",
    "            pos_grad = True\n",
    "            current_alpha = current_alpha * 2\n",
    "training_accuracy = clf_SGD_LR_tuned.score(X_train,y_train)\n",
    "test_accuracy = clf_SGD_LR_tuned.score(X_test,y_test)\n",
    "print('alpha: ',best_alpha)\n",
    "print('training accuracy a/f tuning: ',training_accuracy)\n",
    "print('test accuracy a/f tuning: ',test_accuracy)"
   ]
  },
  {
   "cell_type": "code",
   "execution_count": 12,
   "metadata": {
    "collapsed": false
   },
   "outputs": [
    {
     "name": "stdout",
     "output_type": "stream",
     "text": [
      "0.774852734718\n",
      "0.827\n"
     ]
    }
   ],
   "source": [
    "# fit the L2-regularized linear SVM w/ SGD\n",
    "clf_SGD_SVM = SGD(loss=\"hinge\").fit(X_train,y_train)\n",
    "training_accuracy = \\\n",
    "cross_validation.cross_val_score(clf_SGD_SVM,X_train,y_train,cv=5).mean() # training set score\n",
    "test_accuracy = clf_SGD_SVM.score(X_test, y_test) # test set score\n",
    "print(training_accuracy)\n",
    "print(test_accuracy)"
   ]
  },
  {
   "cell_type": "code",
   "execution_count": 14,
   "metadata": {
    "collapsed": false
   },
   "outputs": [
    {
     "name": "stdout",
     "output_type": "stream",
     "text": [
      "('alpha: ', 0.0001)\n",
      "('training accuracy a/f tuning: ', 0.79785714285714282)\n",
      "('test accuracy a/f tuning: ', 0.80200000000000005)\n"
     ]
    }
   ],
   "source": [
    "# Parameter tuning (using binary search) ==> terrible performance\n",
    "clf_SGD_SVM_tuned = SGD(loss=\"hinge\").fit(X_train,y_train)\n",
    "best_score = clf_SGD_SVM_tuned.score(X_train,y_train)\n",
    "best_alpha = 0.0001\n",
    "current_alpha = 0.0001/2\n",
    "count_stuck = 0\n",
    "pos_grad = False\n",
    "for i in range(10):\n",
    "    clf_SGD_SVM_tuned = SGD(loss=\"log\",alpha=current_alpha).fit(X_train,y_train)\n",
    "    # new validation score\n",
    "    new_score = \\\n",
    "    cross_validation.cross_val_score(clf_SGD_SVM_tuned,X_train,y_train,cv=5).mean()\n",
    "    if best_score <= new_score: # if improved, proceed\n",
    "        best_alpha = current_alpha\n",
    "        if pos_grad:\n",
    "            current_alpha = current_alpha * 2\n",
    "        else:\n",
    "            current_alpha = current_alpha / 2\n",
    "    else:\n",
    "        if pos_grad:\n",
    "            pos_grad = False\n",
    "            current_alpha = current_alpha / 2\n",
    "        else:\n",
    "            pos_grad = True\n",
    "            current_alpha = current_alpha * 2\n",
    "training_accuracy = clf_SGD_SVM_tuned.score(X_train,y_train)\n",
    "test_accuracy = clf_SGD_SVM_tuned.score(X_test,y_test)\n",
    "print('alpha: ',best_alpha)\n",
    "print('training accuracy a/f tuning: ',training_accuracy)\n",
    "print('test accuracy a/f tuning: ',test_accuracy)"
   ]
  }
 ],
 "metadata": {
  "kernelspec": {
   "display_name": "Python 2",
   "language": "python",
   "name": "python2"
  },
  "language_info": {
   "codemirror_mode": {
    "name": "ipython",
    "version": 2
   },
   "file_extension": ".py",
   "mimetype": "text/x-python",
   "name": "python",
   "nbconvert_exporter": "python",
   "pygments_lexer": "ipython2",
   "version": "2.7.11"
  }
 },
 "nbformat": 4,
 "nbformat_minor": 0
}
